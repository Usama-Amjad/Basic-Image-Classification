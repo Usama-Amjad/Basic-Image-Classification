{
  "cells": [
    {
      "cell_type": "markdown",
      "metadata": {
        "id": "-LdnHzGjwzrX"
      },
      "source": [
        "# Task 1: Introduction\n",
        "\n",
        "Welcome to Basic Image Classification with TensorFlow.\n",
        "\n",
        "This graph describes the problem that we are trying to solve visually. We want to create and train a model that takes an image of a hand written digit as input and predicts the class of that digit, that is, it predicts the digit or it predicts the class of the input image.\n",
        "\n",
        "![Hand Written Digits Classification](https://github.com/Usama-Amjad/Basic_Image_Classification/blob/master/images/1_1.png?raw=1)"
      ]
    },
    {
      "cell_type": "markdown",
      "metadata": {
        "id": "yuCPUI9fwzrY"
      },
      "source": [
        "### Import TensorFlow"
      ]
    },
    {
      "cell_type": "code",
      "execution_count": 1,
      "metadata": {
        "id": "T4tlKtBGwzrZ",
        "outputId": "737b6561-2074-4f79-d3de-c17947de1b58",
        "colab": {
          "base_uri": "https://localhost:8080/"
        }
      },
      "outputs": [
        {
          "output_type": "stream",
          "name": "stdout",
          "text": [
            "Using TensorFlow version 2.12.0\n"
          ]
        }
      ],
      "source": [
        "import tensorflow as tf\n",
        "print('Using TensorFlow version', tf.__version__)"
      ]
    },
    {
      "cell_type": "markdown",
      "metadata": {
        "id": "z8LaopH1wzra"
      },
      "source": [
        "# Task 2: The Dataset\n",
        "### Import MNIST"
      ]
    },
    {
      "cell_type": "code",
      "execution_count": 2,
      "metadata": {
        "id": "rxN4YvPqwzrb",
        "colab": {
          "base_uri": "https://localhost:8080/"
        },
        "outputId": "57c28203-15e1-4a1c-d1ce-0c70c5c76c75"
      },
      "outputs": [
        {
          "output_type": "stream",
          "name": "stdout",
          "text": [
            "Downloading data from https://storage.googleapis.com/tensorflow/tf-keras-datasets/mnist.npz\n",
            "11490434/11490434 [==============================] - 0s 0us/step\n"
          ]
        }
      ],
      "source": [
        "from tensorflow.keras.datasets import mnist\n",
        "(x_train,y_train),(x_test,y_test)=mnist.load_data()"
      ]
    },
    {
      "cell_type": "markdown",
      "metadata": {
        "id": "iGm6UnjCwzrb"
      },
      "source": [
        "### Shapes of Imported Arrays"
      ]
    },
    {
      "cell_type": "code",
      "execution_count": 3,
      "metadata": {
        "id": "QD0-5UNzwzrb",
        "outputId": "df6ab799-8bb8-4107-c473-1e3bb6e2e9b7",
        "colab": {
          "base_uri": "https://localhost:8080/"
        }
      },
      "outputs": [
        {
          "output_type": "execute_result",
          "data": {
            "text/plain": [
              "((60000, 28, 28), (60000,), (10000, 28, 28), (10000,))"
            ]
          },
          "metadata": {},
          "execution_count": 3
        }
      ],
      "source": [
        "# (numbert of examples,height,width)\n",
        "x_train.shape,y_train.shape,x_test.shape,y_test.shape,"
      ]
    },
    {
      "cell_type": "markdown",
      "metadata": {
        "id": "LJ01R3bQwzrc"
      },
      "source": [
        "### Plot an Image Example"
      ]
    },
    {
      "cell_type": "code",
      "execution_count": 4,
      "metadata": {
        "id": "qfXt-fekwzrd",
        "outputId": "8538a43f-af63-44b8-e84e-3bd8c126090c",
        "colab": {
          "base_uri": "https://localhost:8080/",
          "height": 430
        }
      },
      "outputs": [
        {
          "output_type": "display_data",
          "data": {
            "text/plain": [
              "<Figure size 640x480 with 1 Axes>"
            ],
            "image/png": "[encoded data removed]"
          },
          "metadata": {}
        }
      ],
      "source": [
        "from matplotlib import pyplot as plt\n",
        "%matplotlib inline\n",
        "plt.imshow(x_train[0],cmap='binary')\n",
        "plt.show()"
      ]
    },
    {
      "cell_type": "markdown",
      "metadata": {
        "id": "nsh3cpUnwzrd"
      },
      "source": [
        "### Display Labels"
      ]
    },
    {
      "cell_type": "code",
      "execution_count": 5,
      "metadata": {
        "id": "BWhqX5u3wzrd",
        "outputId": "89dd274e-d142-40dc-8c8b-68a3cfe7ebcf",
        "colab": {
          "base_uri": "https://localhost:8080/"
        }
      },
      "outputs": [
        {
          "output_type": "execute_result",
          "data": {
            "text/plain": [
              "5"
            ]
          },
          "metadata": {},
          "execution_count": 5
        }
      ],
      "source": [
        "y_train[0]"
      ]
    },
    {
      "cell_type": "code",
      "execution_count": 6,
      "metadata": {
        "id": "Mrqf22mrwzre",
        "outputId": "6536cb68-9244-4270-ab2f-b34c8d3141ee",
        "colab": {
          "base_uri": "https://localhost:8080/"
        }
      },
      "outputs": [
        {
          "output_type": "stream",
          "name": "stdout",
          "text": [
            "{0, 1, 2, 3, 4, 5, 6, 7, 8, 9}\n"
          ]
        }
      ],
      "source": [
        "print(set(y_train))"
      ]
    },
    {
      "cell_type": "markdown",
      "metadata": {
        "id": "PMsj9491wzre"
      },
      "source": [
        "# Task 3: One Hot Encoding\n",
        "After this encoding, every label will be converted to a list with 10 elements and the element at index to the corresponding class will be set to 1, rest will be set to 0:\n",
        "\n",
        "| original label | one-hot encoded label |\n",
        "|------|------|\n",
        "| 5 | [0, 0, 0, 0, 0, 1, 0, 0, 0, 0] |\n",
        "| 7 | [0, 0, 0, 0, 0, 0, 0, 1, 0, 0] |\n",
        "| 1 | [0, 1, 0, 0, 0, 0, 0, 0, 0, 0] |\n",
        "\n",
        "### Encoding Labels"
      ]
    },
    {
      "cell_type": "code",
      "execution_count": 7,
      "metadata": {
        "id": "6tP-19iUwzrf"
      },
      "outputs": [],
      "source": [
        "from tensorflow.keras.utils import to_categorical\n",
        "\n",
        "y_train_encoded=to_categorical(y_train)\n",
        "y_test_encoded=to_categorical(y_test)\n"
      ]
    },
    {
      "cell_type": "markdown",
      "metadata": {
        "id": "ajZLlnhZwzrf"
      },
      "source": [
        "### Validated Shapes"
      ]
    },
    {
      "cell_type": "code",
      "execution_count": 8,
      "metadata": {
        "id": "AhF9pW8Swzrf",
        "colab": {
          "base_uri": "https://localhost:8080/"
        },
        "outputId": "ccbae9fe-a145-4dfa-9411-127861f44c85"
      },
      "outputs": [
        {
          "output_type": "execute_result",
          "data": {
            "text/plain": [
              "((60000, 10), (10000, 10))"
            ]
          },
          "metadata": {},
          "execution_count": 8
        }
      ],
      "source": [
        "y_train_encoded.shape,y_test_encoded.shape"
      ]
    },
    {
      "cell_type": "markdown",
      "metadata": {
        "id": "bzwur3x6wzrf"
      },
      "source": [
        "### Display Encoded Labels"
      ]
    },
    {
      "cell_type": "code",
      "execution_count": 9,
      "metadata": {
        "id": "hfjyAtgvwzrg",
        "colab": {
          "base_uri": "https://localhost:8080/"
        },
        "outputId": "71196bc6-6fd5-4669-b008-fdd92094883c"
      },
      "outputs": [
        {
          "output_type": "execute_result",
          "data": {
            "text/plain": [
              "(5, array([0., 0., 0., 0., 0., 1., 0., 0., 0., 0.], dtype=float32))"
            ]
          },
          "metadata": {},
          "execution_count": 9
        }
      ],
      "source": [
        "# Checking if it is correct\n",
        "y_train[0],y_train_encoded[0]"
      ]
    },
    {
      "cell_type": "markdown",
      "metadata": {
        "id": "77L2ucI5wzrg"
      },
      "source": [
        "# Task 4: Neural Networks\n",
        "\n",
        "### Linear Equations\n",
        "\n",
        "![Single Neuron](https://github.com/Usama-Amjad/Basic_Image_Classification/blob/master/images/1_2.png?raw=1)\n",
        "\n",
        "The above graph simply represents the equation:\n",
        "\n",
        "\\begin{equation}\n",
        "y = w1 * x1 + w2 * x2 + w3 * x3 + b\n",
        "\\end{equation}\n",
        "\n",
        "Where the `w1, w2, w3` are called the weights and `b` is an intercept term called bias. The equation can also be *vectorised* like this:\n",
        "\n",
        "\\begin{equation}\n",
        "y = W . X + b\n",
        "\\end{equation}\n",
        "\n",
        "Where `X = [x1, x2, x3]` and `W = [w1, w2, w3].T`. The .T means *transpose*. This is because we want the dot product to give us the result we want i.e. `w1 * x1 + w2 * x2 + w3 * x3`. This gives us the vectorised version of our linear equation.\n",
        "\n",
        "A simple, linear approach to solving hand-written image classification problem - could it work?\n",
        "\n",
        "![Single Neuron with 784 features](https://github.com/Usama-Amjad/Basic_Image_Classification/blob/master/images/1_3.png?raw=1)\n",
        "\n",
        "### Neural Networks\n",
        "\n",
        "![Neural Network with 2 hidden layers](https://github.com/Usama-Amjad/Basic_Image_Classification/blob/master/images/1_4.png?raw=1)\n",
        "\n",
        "This model is much more likely to solve the problem as it can learn more complex function mapping for the inputs and outputs in our dataset."
      ]
    },
    {
      "cell_type": "markdown",
      "metadata": {
        "id": "H6fGet5Vwzri"
      },
      "source": [
        "# Task 5: Preprocessing the Examples\n",
        "\n",
        "### Unrolling N-dimensional Arrays to Vectors"
      ]
    },
    {
      "cell_type": "code",
      "execution_count": 10,
      "metadata": {
        "id": "J97cNFsjwzri"
      },
      "outputs": [],
      "source": [
        "import numpy as np\n",
        "x_train_reshaped=np.reshape(x_train,(60000,784))\n",
        "x_test_reshaped=np.reshape(x_test,(10000,784))"
      ]
    },
    {
      "cell_type": "code",
      "source": [
        "x_train_reshaped.shape,x_test_reshaped.shape\n",
        "# (total number of sample,pixel value)"
      ],
      "metadata": {
        "colab": {
          "base_uri": "https://localhost:8080/"
        },
        "id": "okxmQDXyQcGK",
        "outputId": "0325d3af-7ad6-4259-ed0b-9ad02ddb2ec5"
      },
      "execution_count": 11,
      "outputs": [
        {
          "output_type": "execute_result",
          "data": {
            "text/plain": [
              "((60000, 784), (10000, 784))"
            ]
          },
          "metadata": {},
          "execution_count": 11
        }
      ]
    },
    {
      "cell_type": "markdown",
      "metadata": {
        "id": "xU_yAaJ-wzri"
      },
      "source": [
        "### Display Pixel Values"
      ]
    },
    {
      "cell_type": "code",
      "execution_count": 13,
      "metadata": {
        "id": "ZxlgBYlmwzrj",
        "colab": {
          "base_uri": "https://localhost:8080/"
        },
        "outputId": "2f12dec0-8113-47b5-ff13-ebc020bcfe41"
      },
      "outputs": [
        {
          "output_type": "stream",
          "name": "stdout",
          "text": [
            "{0, 1, 2, 3, 9, 11, 14, 16, 18, 23, 24, 25, 26, 27, 30, 35, 36, 39, 43, 45, 46, 49, 55, 56, 64, 66, 70, 78, 80, 81, 82, 90, 93, 94, 107, 108, 114, 119, 126, 127, 130, 132, 133, 135, 136, 139, 148, 150, 154, 156, 160, 166, 170, 171, 172, 175, 182, 183, 186, 187, 190, 195, 198, 201, 205, 207, 212, 213, 219, 221, 225, 226, 229, 238, 240, 241, 242, 244, 247, 249, 250, 251, 252, 253, 255}\n"
          ]
        }
      ],
      "source": [
        "print(set(x_train_reshaped[0]))"
      ]
    },
    {
      "cell_type": "markdown",
      "metadata": {
        "id": "zr8AWuu3wzrj"
      },
      "source": [
        "### Data Normalization"
      ]
    },
    {
      "cell_type": "code",
      "execution_count": 14,
      "metadata": {
        "id": "WIFEzfONwzrj"
      },
      "outputs": [],
      "source": [
        "x_mean=np.mean(x_train_reshaped)\n",
        "x_std=np.std(x_train_reshaped)\n",
        "\n",
        "epsilon=1e-10\n",
        "\n",
        "x_train_norm = (x_train_reshaped-x_mean) / (x_std+epsilon)\n",
        "x_test_norm = (x_test_reshaped-x_mean) / (x_std+epsilon)"
      ]
    },
    {
      "cell_type": "markdown",
      "metadata": {
        "id": "r0zJ8rV4wzrj"
      },
      "source": [
        "### Display Normalized Pixel Values"
      ]
    },
    {
      "cell_type": "code",
      "execution_count": 15,
      "metadata": {
        "id": "zNen12L_wzrj",
        "colab": {
          "base_uri": "https://localhost:8080/"
        },
        "outputId": "48d81bec-badc-4d3e-cd57-124241316a2d"
      },
      "outputs": [
        {
          "output_type": "execute_result",
          "data": {
            "text/plain": [
              "array([-0.42407389, -0.42407389, -0.42407389, -0.42407389, -0.42407389,\n",
              "       -0.42407389, -0.42407389, -0.42407389, -0.42407389, -0.42407389,\n",
              "       -0.42407389, -0.42407389, -0.42407389, -0.42407389, -0.42407389,\n",
              "       -0.42407389, -0.42407389, -0.42407389, -0.42407389, -0.42407389,\n",
              "       -0.42407389, -0.42407389, -0.42407389, -0.42407389, -0.42407389,\n",
              "       -0.42407389, -0.42407389, -0.42407389, -0.42407389, -0.42407389,\n",
              "       -0.42407389, -0.42407389, -0.42407389, -0.42407389, -0.42407389,\n",
              "       -0.42407389, -0.42407389, -0.42407389, -0.42407389, -0.42407389,\n",
              "       -0.42407389, -0.42407389, -0.42407389, -0.42407389, -0.42407389,\n",
              "       -0.42407389, -0.42407389, -0.42407389, -0.42407389, -0.42407389,\n",
              "       -0.42407389, -0.42407389, -0.42407389, -0.42407389, -0.42407389,\n",
              "       -0.42407389, -0.42407389, -0.42407389, -0.42407389, -0.42407389,\n",
              "       -0.42407389, -0.42407389, -0.42407389, -0.42407389, -0.42407389,\n",
              "       -0.42407389, -0.42407389, -0.42407389, -0.42407389, -0.42407389,\n",
              "       -0.42407389, -0.42407389, -0.42407389, -0.42407389, -0.42407389,\n",
              "       -0.42407389, -0.42407389, -0.42407389, -0.42407389, -0.42407389,\n",
              "       -0.42407389, -0.42407389, -0.42407389, -0.42407389, -0.42407389,\n",
              "       -0.42407389, -0.42407389, -0.42407389, -0.42407389, -0.42407389,\n",
              "       -0.42407389, -0.42407389, -0.42407389, -0.42407389, -0.42407389,\n",
              "       -0.42407389, -0.42407389, -0.42407389, -0.42407389, -0.42407389,\n",
              "       -0.42407389, -0.42407389, -0.42407389, -0.42407389, -0.42407389,\n",
              "       -0.42407389, -0.42407389, -0.42407389, -0.42407389, -0.42407389,\n",
              "       -0.42407389, -0.42407389, -0.42407389, -0.42407389, -0.42407389,\n",
              "       -0.42407389, -0.42407389, -0.42407389, -0.42407389, -0.42407389,\n",
              "       -0.42407389, -0.42407389, -0.42407389, -0.42407389, -0.42407389,\n",
              "       -0.42407389, -0.42407389, -0.42407389, -0.42407389, -0.42407389,\n",
              "       -0.42407389, -0.42407389, -0.42407389, -0.42407389, -0.42407389,\n",
              "       -0.42407389, -0.42407389, -0.42407389, -0.42407389, -0.42407389,\n",
              "       -0.42407389, -0.42407389, -0.42407389, -0.42407389, -0.42407389,\n",
              "       -0.42407389, -0.42407389, -0.42407389, -0.42407389, -0.42407389,\n",
              "       -0.42407389, -0.42407389, -0.38589016, -0.1949715 , -0.1949715 ,\n",
              "       -0.1949715 ,  1.17964286,  1.30692197,  1.80331049, -0.09314822,\n",
              "        1.68875929,  2.82154335,  2.71972006,  1.19237077, -0.42407389,\n",
              "       -0.42407389, -0.42407389, -0.42407389, -0.42407389, -0.42407389,\n",
              "       -0.42407389, -0.42407389, -0.42407389, -0.42407389, -0.42407389,\n",
              "       -0.42407389, -0.04223657,  0.03413089,  0.77234972,  1.53602436,\n",
              "        1.73967093,  2.79608752,  2.79608752,  2.79608752,  2.79608752,\n",
              "        2.79608752,  2.43970602,  1.76512675,  2.79608752,  2.65608051,\n",
              "        2.0578687 ,  0.39051239, -0.42407389, -0.42407389, -0.42407389,\n",
              "       -0.42407389, -0.42407389, -0.42407389, -0.42407389, -0.42407389,\n",
              "       -0.42407389, -0.42407389, -0.42407389,  0.19959373,  2.60516886,\n",
              "        2.79608752,  2.79608752,  2.79608752,  2.79608752,  2.79608752,\n",
              "        2.79608752,  2.79608752,  2.79608752,  2.7706317 ,  0.7596218 ,\n",
              "        0.61961479,  0.61961479,  0.28868911,  0.07231462, -0.42407389,\n",
              "       -0.42407389, -0.42407389, -0.42407389, -0.42407389, -0.42407389,\n",
              "       -0.42407389, -0.42407389, -0.42407389, -0.42407389, -0.42407389,\n",
              "       -0.42407389, -0.1949715 ,  2.36333856,  2.79608752,  2.79608752,\n",
              "        2.79608752,  2.79608752,  2.79608752,  2.09605243,  1.89240586,\n",
              "        2.71972006,  2.6433526 , -0.42407389, -0.42407389, -0.42407389,\n",
              "       -0.42407389, -0.42407389, -0.42407389, -0.42407389, -0.42407389,\n",
              "       -0.42407389, -0.42407389, -0.42407389, -0.42407389, -0.42407389,\n",
              "       -0.42407389, -0.42407389, -0.42407389, -0.42407389, -0.42407389,\n",
              "        0.59415897,  1.56148018,  0.93781256,  2.79608752,  2.79608752,\n",
              "        2.18514781, -0.28406688, -0.42407389,  0.12322627,  1.53602436,\n",
              "       -0.42407389, -0.42407389, -0.42407389, -0.42407389, -0.42407389,\n",
              "       -0.42407389, -0.42407389, -0.42407389, -0.42407389, -0.42407389,\n",
              "       -0.42407389, -0.42407389, -0.42407389, -0.42407389, -0.42407389,\n",
              "       -0.42407389, -0.42407389, -0.42407389, -0.42407389, -0.24588314,\n",
              "       -0.41134598,  1.53602436,  2.79608752,  0.72143807, -0.42407389,\n",
              "       -0.42407389, -0.42407389, -0.42407389, -0.42407389, -0.42407389,\n",
              "       -0.42407389, -0.42407389, -0.42407389, -0.42407389, -0.42407389,\n",
              "       -0.42407389, -0.42407389, -0.42407389, -0.42407389, -0.42407389,\n",
              "       -0.42407389, -0.42407389, -0.42407389, -0.42407389, -0.42407389,\n",
              "       -0.42407389, -0.42407389, -0.42407389, -0.42407389,  1.3451057 ,\n",
              "        2.79608752,  1.99422915, -0.39861807, -0.42407389, -0.42407389,\n",
              "       -0.42407389, -0.42407389, -0.42407389, -0.42407389, -0.42407389,\n",
              "       -0.42407389, -0.42407389, -0.42407389, -0.42407389, -0.42407389,\n",
              "       -0.42407389, -0.42407389, -0.42407389, -0.42407389, -0.42407389,\n",
              "       -0.42407389, -0.42407389, -0.42407389, -0.42407389, -0.42407389,\n",
              "       -0.42407389, -0.42407389, -0.28406688,  1.99422915,  2.79608752,\n",
              "        0.46687986, -0.42407389, -0.42407389, -0.42407389, -0.42407389,\n",
              "       -0.42407389, -0.42407389, -0.42407389, -0.42407389, -0.42407389,\n",
              "       -0.42407389, -0.42407389, -0.42407389, -0.42407389, -0.42407389,\n",
              "       -0.42407389, -0.42407389, -0.42407389, -0.42407389, -0.42407389,\n",
              "       -0.42407389, -0.42407389, -0.42407389, -0.42407389, -0.42407389,\n",
              "       -0.42407389,  0.02140298,  2.6433526 ,  2.43970602,  1.61239182,\n",
              "        0.95054047, -0.41134598, -0.42407389, -0.42407389, -0.42407389,\n",
              "       -0.42407389, -0.42407389, -0.42407389, -0.42407389, -0.42407389,\n",
              "       -0.42407389, -0.42407389, -0.42407389, -0.42407389, -0.42407389,\n",
              "       -0.42407389, -0.42407389, -0.42407389, -0.42407389, -0.42407389,\n",
              "       -0.42407389, -0.42407389, -0.42407389, -0.42407389, -0.42407389,\n",
              "        0.60688688,  2.63062468,  2.79608752,  2.79608752,  1.09054748,\n",
              "       -0.10587613, -0.42407389, -0.42407389, -0.42407389, -0.42407389,\n",
              "       -0.42407389, -0.42407389, -0.42407389, -0.42407389, -0.42407389,\n",
              "       -0.42407389, -0.42407389, -0.42407389, -0.42407389, -0.42407389,\n",
              "       -0.42407389, -0.42407389, -0.42407389, -0.42407389, -0.42407389,\n",
              "       -0.42407389, -0.42407389, -0.42407389, -0.42407389,  0.14868209,\n",
              "        1.9433175 ,  2.79608752,  2.79608752,  1.48511272, -0.0804203 ,\n",
              "       -0.42407389, -0.42407389, -0.42407389, -0.42407389, -0.42407389,\n",
              "       -0.42407389, -0.42407389, -0.42407389, -0.42407389, -0.42407389,\n",
              "       -0.42407389, -0.42407389, -0.42407389, -0.42407389, -0.42407389,\n",
              "       -0.42407389, -0.42407389, -0.42407389, -0.42407389, -0.42407389,\n",
              "       -0.42407389, -0.42407389, -0.42407389, -0.22042732,  0.7596218 ,\n",
              "        2.78335961,  2.79608752,  1.95604541, -0.42407389, -0.42407389,\n",
              "       -0.42407389, -0.42407389, -0.42407389, -0.42407389, -0.42407389,\n",
              "       -0.42407389, -0.42407389, -0.42407389, -0.42407389, -0.42407389,\n",
              "       -0.42407389, -0.42407389, -0.42407389, -0.42407389, -0.42407389,\n",
              "       -0.42407389, -0.42407389, -0.42407389, -0.42407389, -0.42407389,\n",
              "       -0.42407389, -0.42407389, -0.42407389,  2.74517588,  2.79608752,\n",
              "        2.74517588,  0.39051239, -0.42407389, -0.42407389, -0.42407389,\n",
              "       -0.42407389, -0.42407389, -0.42407389, -0.42407389, -0.42407389,\n",
              "       -0.42407389, -0.42407389, -0.42407389, -0.42407389, -0.42407389,\n",
              "       -0.42407389, -0.42407389, -0.42407389, -0.42407389, -0.42407389,\n",
              "       -0.42407389, -0.42407389, -0.42407389,  0.16141   ,  1.2305545 ,\n",
              "        1.90513377,  2.79608752,  2.79608752,  2.21060363, -0.39861807,\n",
              "       -0.42407389, -0.42407389, -0.42407389, -0.42407389, -0.42407389,\n",
              "       -0.42407389, -0.42407389, -0.42407389, -0.42407389, -0.42407389,\n",
              "       -0.42407389, -0.42407389, -0.42407389, -0.42407389, -0.42407389,\n",
              "       -0.42407389, -0.42407389, -0.42407389, -0.42407389,  0.07231462,\n",
              "        1.4596569 ,  2.49061767,  2.79608752,  2.79608752,  2.79608752,\n",
              "        2.75790379,  1.89240586, -0.42407389, -0.42407389, -0.42407389,\n",
              "       -0.42407389, -0.42407389, -0.42407389, -0.42407389, -0.42407389,\n",
              "       -0.42407389, -0.42407389, -0.42407389, -0.42407389, -0.42407389,\n",
              "       -0.42407389, -0.42407389, -0.42407389, -0.42407389, -0.42407389,\n",
              "       -0.11860404,  1.02690793,  2.38879438,  2.79608752,  2.79608752,\n",
              "        2.79608752,  2.79608752,  2.13423617,  0.56870314, -0.42407389,\n",
              "       -0.42407389, -0.42407389, -0.42407389, -0.42407389, -0.42407389,\n",
              "       -0.42407389, -0.42407389, -0.42407389, -0.42407389, -0.42407389,\n",
              "       -0.42407389, -0.42407389, -0.42407389, -0.42407389, -0.42407389,\n",
              "       -0.42407389, -0.13133195,  0.41596821,  2.28697109,  2.79608752,\n",
              "        2.79608752,  2.79608752,  2.79608752,  2.09605243,  0.60688688,\n",
              "       -0.39861807, -0.42407389, -0.42407389, -0.42407389, -0.42407389,\n",
              "       -0.42407389, -0.42407389, -0.42407389, -0.42407389, -0.42407389,\n",
              "       -0.42407389, -0.42407389, -0.42407389, -0.42407389, -0.42407389,\n",
              "       -0.42407389, -0.42407389, -0.1949715 ,  1.75239884,  2.36333856,\n",
              "        2.79608752,  2.79608752,  2.79608752,  2.79608752,  2.0578687 ,\n",
              "        0.59415897, -0.3095227 , -0.42407389, -0.42407389, -0.42407389,\n",
              "       -0.42407389, -0.42407389, -0.42407389, -0.42407389, -0.42407389,\n",
              "       -0.42407389, -0.42407389, -0.42407389, -0.42407389, -0.42407389,\n",
              "       -0.42407389, -0.42407389, -0.42407389,  0.2759612 ,  1.76512675,\n",
              "        2.45243393,  2.79608752,  2.79608752,  2.79608752,  2.79608752,\n",
              "        2.68153633,  1.26873823, -0.28406688, -0.42407389, -0.42407389,\n",
              "       -0.42407389, -0.42407389, -0.42407389, -0.42407389, -0.42407389,\n",
              "       -0.42407389, -0.42407389, -0.42407389, -0.42407389, -0.42407389,\n",
              "       -0.42407389, -0.42407389, -0.42407389, -0.42407389, -0.42407389,\n",
              "       -0.42407389,  1.30692197,  2.79608752,  2.79608752,  2.79608752,\n",
              "        2.27424318,  1.29419406,  1.25601032, -0.22042732, -0.42407389,\n",
              "       -0.42407389, -0.42407389, -0.42407389, -0.42407389, -0.42407389,\n",
              "       -0.42407389, -0.42407389, -0.42407389, -0.42407389, -0.42407389,\n",
              "       -0.42407389, -0.42407389, -0.42407389, -0.42407389, -0.42407389,\n",
              "       -0.42407389, -0.42407389, -0.42407389, -0.42407389, -0.42407389,\n",
              "       -0.42407389, -0.42407389, -0.42407389, -0.42407389, -0.42407389,\n",
              "       -0.42407389, -0.42407389, -0.42407389, -0.42407389, -0.42407389,\n",
              "       -0.42407389, -0.42407389, -0.42407389, -0.42407389, -0.42407389,\n",
              "       -0.42407389, -0.42407389, -0.42407389, -0.42407389, -0.42407389,\n",
              "       -0.42407389, -0.42407389, -0.42407389, -0.42407389, -0.42407389,\n",
              "       -0.42407389, -0.42407389, -0.42407389, -0.42407389, -0.42407389,\n",
              "       -0.42407389, -0.42407389, -0.42407389, -0.42407389, -0.42407389,\n",
              "       -0.42407389, -0.42407389, -0.42407389, -0.42407389, -0.42407389,\n",
              "       -0.42407389, -0.42407389, -0.42407389, -0.42407389, -0.42407389,\n",
              "       -0.42407389, -0.42407389, -0.42407389, -0.42407389, -0.42407389,\n",
              "       -0.42407389, -0.42407389, -0.42407389, -0.42407389, -0.42407389,\n",
              "       -0.42407389, -0.42407389, -0.42407389, -0.42407389, -0.42407389,\n",
              "       -0.42407389, -0.42407389, -0.42407389, -0.42407389, -0.42407389,\n",
              "       -0.42407389, -0.42407389, -0.42407389, -0.42407389, -0.42407389,\n",
              "       -0.42407389, -0.42407389, -0.42407389, -0.42407389, -0.42407389,\n",
              "       -0.42407389, -0.42407389, -0.42407389, -0.42407389])"
            ]
          },
          "metadata": {},
          "execution_count": 15
        }
      ],
      "source": [
        "x_train_norm[0]"
      ]
    },
    {
      "cell_type": "markdown",
      "metadata": {
        "id": "xIywCnztwzrk"
      },
      "source": [
        "# Task 6: Creating a Model\n",
        "### Creating the Model"
      ]
    },
    {
      "cell_type": "code",
      "execution_count": 17,
      "metadata": {
        "id": "8ztF7ej1wzrk"
      },
      "outputs": [],
      "source": [
        "from tensorflow.keras.models import Sequential\n",
        "from tensorflow.keras.layers import Dense\n",
        "\n",
        "model=Sequential([\n",
        "    Dense(128,activation='relu',input_shape=(784,)),\n",
        "    Dense(128,activation='relu'),\n",
        "    Dense(10,activation='softmax')\n",
        "])"
      ]
    },
    {
      "cell_type": "markdown",
      "metadata": {
        "id": "5DtLKqbAwzrk"
      },
      "source": [
        "### Activation Functions\n",
        "\n",
        "The first step in the node is the linear sum of the inputs:\n",
        "\\begin{equation}\n",
        "Z = W . X + b\n",
        "\\end{equation}\n",
        "\n",
        "The second step in the node is the activation function output:\n",
        "\n",
        "\\begin{equation}\n",
        "A = f(Z)\n",
        "\\end{equation}\n",
        "\n",
        "Graphical representation of a node where the two operations are performed:\n",
        "\n",
        "![ReLU](https://github.com/Usama-Amjad/Basic_Image_Classification/blob/master/images/1_5.png?raw=1)\n",
        "\n",
        "### Compiling the Model"
      ]
    },
    {
      "cell_type": "code",
      "execution_count": 18,
      "metadata": {
        "id": "Yyr6P0Mlwzrk",
        "colab": {
          "base_uri": "https://localhost:8080/"
        },
        "outputId": "3e9c6e41-88f0-4b2a-f65d-a7404ebe6942"
      },
      "outputs": [
        {
          "output_type": "stream",
          "name": "stdout",
          "text": [
            "Model: \"sequential\"\n",
            "_________________________________________________________________\n",
            " Layer (type)                Output Shape              Param #   \n",
            "=================================================================\n",
            " dense_1 (Dense)             (None, 128)               100480    \n",
            "                                                                 \n",
            " dense_2 (Dense)             (None, 128)               16512     \n",
            "                                                                 \n",
            " dense_3 (Dense)             (None, 10)                1290      \n",
            "                                                                 \n",
            "=================================================================\n",
            "Total params: 118,282\n",
            "Trainable params: 118,282\n",
            "Non-trainable params: 0\n",
            "_________________________________________________________________\n"
          ]
        }
      ],
      "source": [
        "model.compile(optimizer='sgd',loss='categorical_crossentropy',metrics=['accuracy'])\n",
        "model.summary()"
      ]
    },
    {
      "cell_type": "markdown",
      "metadata": {
        "id": "ROnIx7eowzrk"
      },
      "source": [
        "# Task 7: Training the Model\n",
        "\n",
        "### Training the Model"
      ]
    },
    {
      "cell_type": "code",
      "execution_count": null,
      "metadata": {
        "id": "B3hu6WUBwzrl"
      },
      "outputs": [],
      "source": []
    },
    {
      "cell_type": "markdown",
      "metadata": {
        "id": "WS3pLqQKwzrl"
      },
      "source": [
        "### Evaluating the Model"
      ]
    },
    {
      "cell_type": "code",
      "execution_count": null,
      "metadata": {
        "id": "6HJFSeVMwzrl"
      },
      "outputs": [],
      "source": []
    },
    {
      "cell_type": "markdown",
      "metadata": {
        "id": "CJRw0cZBwzrl"
      },
      "source": [
        "# Task 8: Predictions\n",
        "\n",
        "### Predictions on Test Set"
      ]
    },
    {
      "cell_type": "code",
      "execution_count": null,
      "metadata": {
        "id": "VzVKuwk3wzrl"
      },
      "outputs": [],
      "source": []
    },
    {
      "cell_type": "markdown",
      "metadata": {
        "id": "Bd8YvFDZwzrl"
      },
      "source": [
        "### Plotting the Results"
      ]
    },
    {
      "cell_type": "code",
      "execution_count": null,
      "metadata": {
        "id": "3FL3sc0Xwzrv"
      },
      "outputs": [],
      "source": []
    },
    {
      "cell_type": "code",
      "execution_count": null,
      "metadata": {
        "id": "C6YZGMhpwzrv"
      },
      "outputs": [],
      "source": []
    }
  ],
  "metadata": {
    "kernelspec": {
      "display_name": "Python 3",
      "language": "python",
      "name": "python3"
    },
    "language_info": {
      "codemirror_mode": {
        "name": "ipython",
        "version": 3
      },
      "file_extension": ".py",
      "mimetype": "text/x-python",
      "name": "python",
      "nbconvert_exporter": "python",
      "pygments_lexer": "ipython3",
      "version": "3.7.3"
    },
    "colab": {
      "provenance": []
    }
  },
  "nbformat": 4,
  "nbformat_minor": 0
}